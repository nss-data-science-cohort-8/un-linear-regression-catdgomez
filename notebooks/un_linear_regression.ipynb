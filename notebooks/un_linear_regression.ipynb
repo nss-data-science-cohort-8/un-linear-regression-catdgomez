{
 "cells": [
  {
   "cell_type": "code",
   "execution_count": 1,
   "id": "0395c83b-611a-4f67-91b8-89b473abc440",
   "metadata": {},
   "outputs": [],
   "source": [
    "import pandas as pd\n",
    "import numpy as np\n",
    "import matplotlib.pyplot as plt\n",
    "import statsmodels.formula.api as smf\n",
    "import statsmodels.stats.api as sms"
   ]
  },
  {
   "cell_type": "code",
   "execution_count": 2,
   "id": "57e31214-7f77-4e86-a1af-0e8c1a6062a0",
   "metadata": {},
   "outputs": [
    {
     "data": {
      "text/html": [
       "<div>\n",
       "<style scoped>\n",
       "    .dataframe tbody tr th:only-of-type {\n",
       "        vertical-align: middle;\n",
       "    }\n",
       "\n",
       "    .dataframe tbody tr th {\n",
       "        vertical-align: top;\n",
       "    }\n",
       "\n",
       "    .dataframe thead th {\n",
       "        text-align: right;\n",
       "    }\n",
       "</style>\n",
       "<table border=\"1\" class=\"dataframe\">\n",
       "  <thead>\n",
       "    <tr style=\"text-align: right;\">\n",
       "      <th></th>\n",
       "      <th>Country</th>\n",
       "      <th>Year</th>\n",
       "      <th>GDP_Per_Capita</th>\n",
       "      <th>Continent</th>\n",
       "      <th>Life_Expectancy</th>\n",
       "    </tr>\n",
       "  </thead>\n",
       "  <tbody>\n",
       "    <tr>\n",
       "      <th>0</th>\n",
       "      <td>Afghanistan</td>\n",
       "      <td>2021</td>\n",
       "      <td>1517.016266</td>\n",
       "      <td>Asia</td>\n",
       "      <td>61.982</td>\n",
       "    </tr>\n",
       "    <tr>\n",
       "      <th>1</th>\n",
       "      <td>Afghanistan</td>\n",
       "      <td>2020</td>\n",
       "      <td>1968.341002</td>\n",
       "      <td>Asia</td>\n",
       "      <td>62.575</td>\n",
       "    </tr>\n",
       "  </tbody>\n",
       "</table>\n",
       "</div>"
      ],
      "text/plain": [
       "       Country  Year  GDP_Per_Capita Continent  Life_Expectancy\n",
       "0  Afghanistan  2021     1517.016266      Asia           61.982\n",
       "1  Afghanistan  2020     1968.341002      Asia           62.575"
      ]
     },
     "execution_count": 2,
     "metadata": {},
     "output_type": "execute_result"
    }
   ],
   "source": [
    "gdp_le = pd.read_csv('../data/gdp_le.csv')\n",
    "gdp_le.head(2)"
   ]
  },
  {
   "cell_type": "markdown",
   "id": "33c54924-160e-46e1-886e-d569e4f81235",
   "metadata": {},
   "source": [
    "# Problem Solving:"
   ]
  },
  {
   "cell_type": "markdown",
   "id": "53df3c73-ff45-4039-b03c-a3d6dd5b80b9",
   "metadata": {},
   "source": [
    "## 1. Start by fitting a linear regression model with target being life expectancy and predictor variable year."
   ]
  },
  {
   "cell_type": "code",
   "execution_count": 5,
   "id": "c19915f2-1337-4a70-b9b4-959a6d444f5f",
   "metadata": {},
   "outputs": [],
   "source": [
    "lr_le_yr = smf.ols(\"Life_Expectancy ~ Year\", data=gdp_le).fit()"
   ]
  },
  {
   "cell_type": "code",
   "execution_count": 6,
   "id": "9322cea8-03b4-48f4-8ced-f88c02c0c640",
   "metadata": {},
   "outputs": [
    {
     "data": {
      "text/plain": [
       "Intercept   -468.138140\n",
       "Year           0.267722\n",
       "dtype: float64"
      ]
     },
     "execution_count": 6,
     "metadata": {},
     "output_type": "execute_result"
    }
   ],
   "source": [
    "lr_le_yr.params"
   ]
  },
  {
   "cell_type": "markdown",
   "id": "46ed93d4-a48f-4a10-b90d-048a58a0f5ff",
   "metadata": {},
   "source": [
    "Substituting these estimates into the model, we get\n",
    "\n",
    "$$Mean(Life Expectancy) = -468.138140 + 0.267722(Year)$$"
   ]
  },
  {
   "cell_type": "markdown",
   "id": "c5a5cd54-5b14-400d-863b-b3162152cada",
   "metadata": {},
   "source": [
    "### 1a. What coefficients do you get? Interpret the meaning of these coefficents."
   ]
  },
  {
   "cell_type": "markdown",
   "id": "d8855db1-3474-4a73-86ab-82c1e57bb9e8",
   "metadata": {},
   "source": [
    "Intercept   -468.138140 and\n",
    "Year           0.267722"
   ]
  },
  {
   "cell_type": "markdown",
   "id": "f5b4c16b-906d-4ce4-9b43-122711575f01",
   "metadata": {},
   "source": [
    "The intercept, -468.14, is where the Life_Expectancy variable intercepts the Y axis when the year is 0. BUT the year is never 0 in this dataset..."
   ]
  },
  {
   "cell_type": "markdown",
   "id": "4b5d42f3-a8f3-4ac5-b245-32e88b513bdd",
   "metadata": {},
   "source": [
    "### 1b. Using just the year makes the intercept term difficult to interpret. Create a new model, but this time use years since 1990 as your predictor variable. Hint: You can the patsy identity function to modify your predictors in your model formula. Inspect the new coefficients and interpret the meaning of them. Are they statistically significant?"
   ]
  },
  {
   "cell_type": "code",
   "execution_count": 140,
   "id": "50df50d8-f6b0-4639-a1a3-4787381f113a",
   "metadata": {},
   "outputs": [
    {
     "data": {
      "text/plain": [
       "Intercept         64.628889\n",
       "I(Year - 1990)     0.267722\n",
       "dtype: float64"
      ]
     },
     "execution_count": 140,
     "metadata": {},
     "output_type": "execute_result"
    }
   ],
   "source": [
    "year1990_vs_le = smf.ols(\"Life_Expectancy ~ I(Year-1990)\", data=gdp_le).fit()\n",
    "year1990_vs_le.params"
   ]
  },
  {
   "cell_type": "markdown",
   "id": "26fa69cf-d70e-4e07-8306-cb8d850a8881",
   "metadata": {},
   "source": [
    "### 1b. cont'd - Inspect the new coefficients and interpret the meaning of them. Are they statistically significant?"
   ]
  },
  {
   "cell_type": "code",
   "execution_count": 143,
   "id": "c913e7c6-c9ef-4abf-abe9-b9512fbcb594",
   "metadata": {},
   "outputs": [
    {
     "data": {
      "text/html": [
       "<table class=\"simpletable\">\n",
       "<caption>OLS Regression Results</caption>\n",
       "<tr>\n",
       "  <th>Dep. Variable:</th>     <td>Life_Expectancy</td> <th>  R-squared:         </th> <td>   0.072</td> \n",
       "</tr>\n",
       "<tr>\n",
       "  <th>Model:</th>                   <td>OLS</td>       <th>  Adj. R-squared:    </th> <td>   0.071</td> \n",
       "</tr>\n",
       "<tr>\n",
       "  <th>Method:</th>             <td>Least Squares</td>  <th>  F-statistic:       </th> <td>   424.0</td> \n",
       "</tr>\n",
       "<tr>\n",
       "  <th>Date:</th>             <td>Tue, 22 Oct 2024</td> <th>  Prob (F-statistic):</th> <td>8.13e-91</td> \n",
       "</tr>\n",
       "<tr>\n",
       "  <th>Time:</th>                 <td>20:10:31</td>     <th>  Log-Likelihood:    </th> <td> -19950.</td> \n",
       "</tr>\n",
       "<tr>\n",
       "  <th>No. Observations:</th>      <td>  5504</td>      <th>  AIC:               </th> <td>3.990e+04</td>\n",
       "</tr>\n",
       "<tr>\n",
       "  <th>Df Residuals:</th>          <td>  5502</td>      <th>  BIC:               </th> <td>3.992e+04</td>\n",
       "</tr>\n",
       "<tr>\n",
       "  <th>Df Model:</th>              <td>     1</td>      <th>                     </th>     <td> </td>    \n",
       "</tr>\n",
       "<tr>\n",
       "  <th>Covariance Type:</th>      <td>nonrobust</td>    <th>                     </th>     <td> </td>    \n",
       "</tr>\n",
       "</table>\n",
       "<table class=\"simpletable\">\n",
       "<tr>\n",
       "         <td></td>           <th>coef</th>     <th>std err</th>      <th>t</th>      <th>P>|t|</th>  <th>[0.025</th>    <th>0.975]</th>  \n",
       "</tr>\n",
       "<tr>\n",
       "  <th>Intercept</th>      <td>   -0.0001</td> <td> 6.64e-06</td> <td>  -15.342</td> <td> 0.000</td> <td>   -0.000</td> <td>-8.89e-05</td>\n",
       "</tr>\n",
       "<tr>\n",
       "  <th>Year</th>           <td>    0.0325</td> <td>    0.000</td> <td>  263.314</td> <td> 0.000</td> <td>    0.032</td> <td>    0.033</td>\n",
       "</tr>\n",
       "<tr>\n",
       "  <th>I(Year - 1990)</th> <td>    0.2352</td> <td>    0.013</td> <td>   17.945</td> <td> 0.000</td> <td>    0.210</td> <td>    0.261</td>\n",
       "</tr>\n",
       "</table>\n",
       "<table class=\"simpletable\">\n",
       "<tr>\n",
       "  <th>Omnibus:</th>       <td>387.409</td> <th>  Durbin-Watson:     </th> <td>   0.058</td> \n",
       "</tr>\n",
       "<tr>\n",
       "  <th>Prob(Omnibus):</th> <td> 0.000</td>  <th>  Jarque-Bera (JB):  </th> <td> 469.138</td> \n",
       "</tr>\n",
       "<tr>\n",
       "  <th>Skew:</th>          <td>-0.709</td>  <th>  Prob(JB):          </th> <td>1.34e-102</td>\n",
       "</tr>\n",
       "<tr>\n",
       "  <th>Kurtosis:</th>      <td> 2.820</td>  <th>  Cond. No.          </th> <td>1.23e+19</td> \n",
       "</tr>\n",
       "</table><br/><br/>Notes:<br/>[1] Standard Errors assume that the covariance matrix of the errors is correctly specified.<br/>[2] The smallest eigenvalue is 1.47e-28. This might indicate that there are<br/>strong multicollinearity problems or that the design matrix is singular."
      ],
      "text/latex": [
       "\\begin{center}\n",
       "\\begin{tabular}{lclc}\n",
       "\\toprule\n",
       "\\textbf{Dep. Variable:}    & Life\\_Expectancy & \\textbf{  R-squared:         } &     0.072   \\\\\n",
       "\\textbf{Model:}            &       OLS        & \\textbf{  Adj. R-squared:    } &     0.071   \\\\\n",
       "\\textbf{Method:}           &  Least Squares   & \\textbf{  F-statistic:       } &     424.0   \\\\\n",
       "\\textbf{Date:}             & Tue, 22 Oct 2024 & \\textbf{  Prob (F-statistic):} &  8.13e-91   \\\\\n",
       "\\textbf{Time:}             &     20:10:31     & \\textbf{  Log-Likelihood:    } &   -19950.   \\\\\n",
       "\\textbf{No. Observations:} &        5504      & \\textbf{  AIC:               } & 3.990e+04   \\\\\n",
       "\\textbf{Df Residuals:}     &        5502      & \\textbf{  BIC:               } & 3.992e+04   \\\\\n",
       "\\textbf{Df Model:}         &           1      & \\textbf{                     } &             \\\\\n",
       "\\textbf{Covariance Type:}  &    nonrobust     & \\textbf{                     } &             \\\\\n",
       "\\bottomrule\n",
       "\\end{tabular}\n",
       "\\begin{tabular}{lcccccc}\n",
       "                        & \\textbf{coef} & \\textbf{std err} & \\textbf{t} & \\textbf{P$> |$t$|$} & \\textbf{[0.025} & \\textbf{0.975]}  \\\\\n",
       "\\midrule\n",
       "\\textbf{Intercept}      &      -0.0001  &     6.64e-06     &   -15.342  &         0.000        &       -0.000    &    -8.89e-05     \\\\\n",
       "\\textbf{Year}           &       0.0325  &        0.000     &   263.314  &         0.000        &        0.032    &        0.033     \\\\\n",
       "\\textbf{I(Year - 1990)} &       0.2352  &        0.013     &    17.945  &         0.000        &        0.210    &        0.261     \\\\\n",
       "\\bottomrule\n",
       "\\end{tabular}\n",
       "\\begin{tabular}{lclc}\n",
       "\\textbf{Omnibus:}       & 387.409 & \\textbf{  Durbin-Watson:     } &     0.058  \\\\\n",
       "\\textbf{Prob(Omnibus):} &   0.000 & \\textbf{  Jarque-Bera (JB):  } &   469.138  \\\\\n",
       "\\textbf{Skew:}          &  -0.709 & \\textbf{  Prob(JB):          } & 1.34e-102  \\\\\n",
       "\\textbf{Kurtosis:}      &   2.820 & \\textbf{  Cond. No.          } &  1.23e+19  \\\\\n",
       "\\bottomrule\n",
       "\\end{tabular}\n",
       "%\\caption{OLS Regression Results}\n",
       "\\end{center}\n",
       "\n",
       "Notes: \\newline\n",
       " [1] Standard Errors assume that the covariance matrix of the errors is correctly specified. \\newline\n",
       " [2] The smallest eigenvalue is 1.47e-28. This might indicate that there are \\newline\n",
       " strong multicollinearity problems or that the design matrix is singular."
      ],
      "text/plain": [
       "<class 'statsmodels.iolib.summary.Summary'>\n",
       "\"\"\"\n",
       "                            OLS Regression Results                            \n",
       "==============================================================================\n",
       "Dep. Variable:        Life_Expectancy   R-squared:                       0.072\n",
       "Model:                            OLS   Adj. R-squared:                  0.071\n",
       "Method:                 Least Squares   F-statistic:                     424.0\n",
       "Date:                Tue, 22 Oct 2024   Prob (F-statistic):           8.13e-91\n",
       "Time:                        20:10:31   Log-Likelihood:                -19950.\n",
       "No. Observations:                5504   AIC:                         3.990e+04\n",
       "Df Residuals:                    5502   BIC:                         3.992e+04\n",
       "Df Model:                           1                                         \n",
       "Covariance Type:            nonrobust                                         \n",
       "==================================================================================\n",
       "                     coef    std err          t      P>|t|      [0.025      0.975]\n",
       "----------------------------------------------------------------------------------\n",
       "Intercept         -0.0001   6.64e-06    -15.342      0.000      -0.000   -8.89e-05\n",
       "Year               0.0325      0.000    263.314      0.000       0.032       0.033\n",
       "I(Year - 1990)     0.2352      0.013     17.945      0.000       0.210       0.261\n",
       "==============================================================================\n",
       "Omnibus:                      387.409   Durbin-Watson:                   0.058\n",
       "Prob(Omnibus):                  0.000   Jarque-Bera (JB):              469.138\n",
       "Skew:                          -0.709   Prob(JB):                    1.34e-102\n",
       "Kurtosis:                       2.820   Cond. No.                     1.23e+19\n",
       "==============================================================================\n",
       "\n",
       "Notes:\n",
       "[1] Standard Errors assume that the covariance matrix of the errors is correctly specified.\n",
       "[2] The smallest eigenvalue is 1.47e-28. This might indicate that there are\n",
       "strong multicollinearity problems or that the design matrix is singular.\n",
       "\"\"\""
      ]
     },
     "execution_count": 143,
     "metadata": {},
     "output_type": "execute_result"
    }
   ],
   "source": [
    "lm = smf.ols('Life_Expectancy ~ Year + I(Year-1990)', data = gdp_le).fit()\n",
    "lm.summary()"
   ]
  },
  {
   "cell_type": "markdown",
   "id": "60337626-f203-4919-8a28-98bd25ea5a63",
   "metadata": {},
   "source": [
    "yes, based on the P values being less than 0.05 and the span of the inner quartile range being both greater than 0, I can posit that there is a non null effect. We can reject the null hypothesis and accept that the year is statistically significant as it relates to life expectancy"
   ]
  },
  {
   "cell_type": "markdown",
   "id": "8956a989-dd24-4069-8cb3-4678ac596fd5",
   "metadata": {},
   "source": [
    "### 1c. Compare the actual mean life expectancy per year to the model's estimate. How well does it do?"
   ]
  },
  {
   "cell_type": "code",
   "execution_count": 147,
   "id": "ae6777e4-7679-4177-8551-dc717ceab760",
   "metadata": {},
   "outputs": [
    {
     "data": {
      "text/html": [
       "<table class=\"simpletable\">\n",
       "<caption>OLS Regression Results</caption>\n",
       "<tr>\n",
       "  <th>Dep. Variable:</th>     <td>Life_Expectancy</td> <th>  R-squared:         </th> <td>   0.072</td> \n",
       "</tr>\n",
       "<tr>\n",
       "  <th>Model:</th>                   <td>OLS</td>       <th>  Adj. R-squared:    </th> <td>   0.071</td> \n",
       "</tr>\n",
       "<tr>\n",
       "  <th>Method:</th>             <td>Least Squares</td>  <th>  F-statistic:       </th> <td>   424.0</td> \n",
       "</tr>\n",
       "<tr>\n",
       "  <th>Date:</th>             <td>Tue, 22 Oct 2024</td> <th>  Prob (F-statistic):</th> <td>8.13e-91</td> \n",
       "</tr>\n",
       "<tr>\n",
       "  <th>Time:</th>                 <td>20:10:31</td>     <th>  Log-Likelihood:    </th> <td> -19950.</td> \n",
       "</tr>\n",
       "<tr>\n",
       "  <th>No. Observations:</th>      <td>  5504</td>      <th>  AIC:               </th> <td>3.990e+04</td>\n",
       "</tr>\n",
       "<tr>\n",
       "  <th>Df Residuals:</th>          <td>  5502</td>      <th>  BIC:               </th> <td>3.992e+04</td>\n",
       "</tr>\n",
       "<tr>\n",
       "  <th>Df Model:</th>              <td>     1</td>      <th>                     </th>     <td> </td>    \n",
       "</tr>\n",
       "<tr>\n",
       "  <th>Covariance Type:</th>      <td>nonrobust</td>    <th>                     </th>     <td> </td>    \n",
       "</tr>\n",
       "</table>\n",
       "<table class=\"simpletable\">\n",
       "<tr>\n",
       "         <td></td>           <th>coef</th>     <th>std err</th>      <th>t</th>      <th>P>|t|</th>  <th>[0.025</th>    <th>0.975]</th>  \n",
       "</tr>\n",
       "<tr>\n",
       "  <th>Intercept</th>      <td>   -0.0001</td> <td> 6.64e-06</td> <td>  -15.342</td> <td> 0.000</td> <td>   -0.000</td> <td>-8.89e-05</td>\n",
       "</tr>\n",
       "<tr>\n",
       "  <th>Year</th>           <td>    0.0325</td> <td>    0.000</td> <td>  263.314</td> <td> 0.000</td> <td>    0.032</td> <td>    0.033</td>\n",
       "</tr>\n",
       "<tr>\n",
       "  <th>I(Year - 1990)</th> <td>    0.2352</td> <td>    0.013</td> <td>   17.945</td> <td> 0.000</td> <td>    0.210</td> <td>    0.261</td>\n",
       "</tr>\n",
       "</table>\n",
       "<table class=\"simpletable\">\n",
       "<tr>\n",
       "  <th>Omnibus:</th>       <td>387.409</td> <th>  Durbin-Watson:     </th> <td>   0.058</td> \n",
       "</tr>\n",
       "<tr>\n",
       "  <th>Prob(Omnibus):</th> <td> 0.000</td>  <th>  Jarque-Bera (JB):  </th> <td> 469.138</td> \n",
       "</tr>\n",
       "<tr>\n",
       "  <th>Skew:</th>          <td>-0.709</td>  <th>  Prob(JB):          </th> <td>1.34e-102</td>\n",
       "</tr>\n",
       "<tr>\n",
       "  <th>Kurtosis:</th>      <td> 2.820</td>  <th>  Cond. No.          </th> <td>1.23e+19</td> \n",
       "</tr>\n",
       "</table><br/><br/>Notes:<br/>[1] Standard Errors assume that the covariance matrix of the errors is correctly specified.<br/>[2] The smallest eigenvalue is 1.47e-28. This might indicate that there are<br/>strong multicollinearity problems or that the design matrix is singular."
      ],
      "text/latex": [
       "\\begin{center}\n",
       "\\begin{tabular}{lclc}\n",
       "\\toprule\n",
       "\\textbf{Dep. Variable:}    & Life\\_Expectancy & \\textbf{  R-squared:         } &     0.072   \\\\\n",
       "\\textbf{Model:}            &       OLS        & \\textbf{  Adj. R-squared:    } &     0.071   \\\\\n",
       "\\textbf{Method:}           &  Least Squares   & \\textbf{  F-statistic:       } &     424.0   \\\\\n",
       "\\textbf{Date:}             & Tue, 22 Oct 2024 & \\textbf{  Prob (F-statistic):} &  8.13e-91   \\\\\n",
       "\\textbf{Time:}             &     20:10:31     & \\textbf{  Log-Likelihood:    } &   -19950.   \\\\\n",
       "\\textbf{No. Observations:} &        5504      & \\textbf{  AIC:               } & 3.990e+04   \\\\\n",
       "\\textbf{Df Residuals:}     &        5502      & \\textbf{  BIC:               } & 3.992e+04   \\\\\n",
       "\\textbf{Df Model:}         &           1      & \\textbf{                     } &             \\\\\n",
       "\\textbf{Covariance Type:}  &    nonrobust     & \\textbf{                     } &             \\\\\n",
       "\\bottomrule\n",
       "\\end{tabular}\n",
       "\\begin{tabular}{lcccccc}\n",
       "                        & \\textbf{coef} & \\textbf{std err} & \\textbf{t} & \\textbf{P$> |$t$|$} & \\textbf{[0.025} & \\textbf{0.975]}  \\\\\n",
       "\\midrule\n",
       "\\textbf{Intercept}      &      -0.0001  &     6.64e-06     &   -15.342  &         0.000        &       -0.000    &    -8.89e-05     \\\\\n",
       "\\textbf{Year}           &       0.0325  &        0.000     &   263.314  &         0.000        &        0.032    &        0.033     \\\\\n",
       "\\textbf{I(Year - 1990)} &       0.2352  &        0.013     &    17.945  &         0.000        &        0.210    &        0.261     \\\\\n",
       "\\bottomrule\n",
       "\\end{tabular}\n",
       "\\begin{tabular}{lclc}\n",
       "\\textbf{Omnibus:}       & 387.409 & \\textbf{  Durbin-Watson:     } &     0.058  \\\\\n",
       "\\textbf{Prob(Omnibus):} &   0.000 & \\textbf{  Jarque-Bera (JB):  } &   469.138  \\\\\n",
       "\\textbf{Skew:}          &  -0.709 & \\textbf{  Prob(JB):          } & 1.34e-102  \\\\\n",
       "\\textbf{Kurtosis:}      &   2.820 & \\textbf{  Cond. No.          } &  1.23e+19  \\\\\n",
       "\\bottomrule\n",
       "\\end{tabular}\n",
       "%\\caption{OLS Regression Results}\n",
       "\\end{center}\n",
       "\n",
       "Notes: \\newline\n",
       " [1] Standard Errors assume that the covariance matrix of the errors is correctly specified. \\newline\n",
       " [2] The smallest eigenvalue is 1.47e-28. This might indicate that there are \\newline\n",
       " strong multicollinearity problems or that the design matrix is singular."
      ],
      "text/plain": [
       "<class 'statsmodels.iolib.summary.Summary'>\n",
       "\"\"\"\n",
       "                            OLS Regression Results                            \n",
       "==============================================================================\n",
       "Dep. Variable:        Life_Expectancy   R-squared:                       0.072\n",
       "Model:                            OLS   Adj. R-squared:                  0.071\n",
       "Method:                 Least Squares   F-statistic:                     424.0\n",
       "Date:                Tue, 22 Oct 2024   Prob (F-statistic):           8.13e-91\n",
       "Time:                        20:10:31   Log-Likelihood:                -19950.\n",
       "No. Observations:                5504   AIC:                         3.990e+04\n",
       "Df Residuals:                    5502   BIC:                         3.992e+04\n",
       "Df Model:                           1                                         \n",
       "Covariance Type:            nonrobust                                         \n",
       "==================================================================================\n",
       "                     coef    std err          t      P>|t|      [0.025      0.975]\n",
       "----------------------------------------------------------------------------------\n",
       "Intercept         -0.0001   6.64e-06    -15.342      0.000      -0.000   -8.89e-05\n",
       "Year               0.0325      0.000    263.314      0.000       0.032       0.033\n",
       "I(Year - 1990)     0.2352      0.013     17.945      0.000       0.210       0.261\n",
       "==============================================================================\n",
       "Omnibus:                      387.409   Durbin-Watson:                   0.058\n",
       "Prob(Omnibus):                  0.000   Jarque-Bera (JB):              469.138\n",
       "Skew:                          -0.709   Prob(JB):                    1.34e-102\n",
       "Kurtosis:                       2.820   Cond. No.                     1.23e+19\n",
       "==============================================================================\n",
       "\n",
       "Notes:\n",
       "[1] Standard Errors assume that the covariance matrix of the errors is correctly specified.\n",
       "[2] The smallest eigenvalue is 1.47e-28. This might indicate that there are\n",
       "strong multicollinearity problems or that the design matrix is singular.\n",
       "\"\"\""
      ]
     },
     "execution_count": 147,
     "metadata": {},
     "output_type": "execute_result"
    }
   ],
   "source": [
    "lm = smf.ols('Life_Expectancy ~ Year + I(Year-1990)', data = gdp_le).fit()\n",
    "lm.summary()"
   ]
  },
  {
   "cell_type": "markdown",
   "id": "8ca6d173-90cc-4feb-b3a7-4d5d697616d7",
   "metadata": {},
   "source": [
    "##### TESTED RESULTS FROM MODEL CALC TO ACTUAL DATA"
   ]
  },
  {
   "cell_type": "code",
   "execution_count": 149,
   "id": "5324bb09-51d4-4e79-8331-81ab6e3968d5",
   "metadata": {},
   "outputs": [
    {
     "data": {
      "text/plain": [
       "64.6749"
      ]
     },
     "execution_count": 149,
     "metadata": {},
     "output_type": "execute_result"
    }
   ],
   "source": [
    "-0.0001 + 1990 * 0.0325"
   ]
  },
  {
   "cell_type": "code",
   "execution_count": 150,
   "id": "8108ae00-5b95-4bbf-8eaf-1cade7c6df7c",
   "metadata": {},
   "outputs": [
    {
     "data": {
      "text/plain": [
       "64.7399"
      ]
     },
     "execution_count": 150,
     "metadata": {},
     "output_type": "execute_result"
    }
   ],
   "source": [
    "-0.0001\t+ 1992 * 0.0325"
   ]
  },
  {
   "cell_type": "code",
   "execution_count": 151,
   "id": "3a9d3cfa-d406-42e8-bfb9-6fde981b6f40",
   "metadata": {},
   "outputs": [
    {
     "data": {
      "text/plain": [
       "65.6499"
      ]
     },
     "execution_count": 151,
     "metadata": {},
     "output_type": "execute_result"
    }
   ],
   "source": [
    "-0.0001\t+ 2020 * 0.0325"
   ]
  },
  {
   "cell_type": "code",
   "execution_count": 153,
   "id": "16218f97-5fef-4110-ac38-6509f75ec934",
   "metadata": {},
   "outputs": [
    {
     "data": {
      "text/plain": [
       "65.7149"
      ]
     },
     "execution_count": 153,
     "metadata": {},
     "output_type": "execute_result"
    }
   ],
   "source": [
    "-0.0001\t+ 2022 * 0.0325"
   ]
  },
  {
   "cell_type": "code",
   "execution_count": 154,
   "id": "f3c6f00c-4d6f-4db9-94d2-8705bf370950",
   "metadata": {},
   "outputs": [
    {
     "data": {
      "text/html": [
       "<div>\n",
       "<style scoped>\n",
       "    .dataframe tbody tr th:only-of-type {\n",
       "        vertical-align: middle;\n",
       "    }\n",
       "\n",
       "    .dataframe tbody tr th {\n",
       "        vertical-align: top;\n",
       "    }\n",
       "\n",
       "    .dataframe thead th {\n",
       "        text-align: right;\n",
       "    }\n",
       "</style>\n",
       "<table border=\"1\" class=\"dataframe\">\n",
       "  <thead>\n",
       "    <tr style=\"text-align: right;\">\n",
       "      <th></th>\n",
       "      <th>Year</th>\n",
       "      <th>Life_Expectancy</th>\n",
       "    </tr>\n",
       "  </thead>\n",
       "  <tbody>\n",
       "    <tr>\n",
       "      <th>0</th>\n",
       "      <td>1990</td>\n",
       "      <td>64.745253</td>\n",
       "    </tr>\n",
       "    <tr>\n",
       "      <th>1</th>\n",
       "      <td>1991</td>\n",
       "      <td>65.021276</td>\n",
       "    </tr>\n",
       "    <tr>\n",
       "      <th>2</th>\n",
       "      <td>1992</td>\n",
       "      <td>65.217845</td>\n",
       "    </tr>\n",
       "  </tbody>\n",
       "</table>\n",
       "</div>"
      ],
      "text/plain": [
       "   Year  Life_Expectancy\n",
       "0  1990        64.745253\n",
       "1  1991        65.021276\n",
       "2  1992        65.217845"
      ]
     },
     "execution_count": 154,
     "metadata": {},
     "output_type": "execute_result"
    }
   ],
   "source": [
    "yr_mean_le = gdp_le.groupby(\"Year\")[\"Life_Expectancy\"].mean().reset_index()\n",
    "yr_mean_le.head(3)"
   ]
  },
  {
   "cell_type": "code",
   "execution_count": 156,
   "id": "fa272350-6ba7-4317-b284-277db970b91b",
   "metadata": {},
   "outputs": [
    {
     "data": {
      "text/html": [
       "<div>\n",
       "<style scoped>\n",
       "    .dataframe tbody tr th:only-of-type {\n",
       "        vertical-align: middle;\n",
       "    }\n",
       "\n",
       "    .dataframe tbody tr th {\n",
       "        vertical-align: top;\n",
       "    }\n",
       "\n",
       "    .dataframe thead th {\n",
       "        text-align: right;\n",
       "    }\n",
       "</style>\n",
       "<table border=\"1\" class=\"dataframe\">\n",
       "  <thead>\n",
       "    <tr style=\"text-align: right;\">\n",
       "      <th></th>\n",
       "      <th>Year</th>\n",
       "      <th>Life_Expectancy</th>\n",
       "    </tr>\n",
       "  </thead>\n",
       "  <tbody>\n",
       "    <tr>\n",
       "      <th>30</th>\n",
       "      <td>2020</td>\n",
       "      <td>72.044532</td>\n",
       "    </tr>\n",
       "    <tr>\n",
       "      <th>31</th>\n",
       "      <td>2021</td>\n",
       "      <td>71.520337</td>\n",
       "    </tr>\n",
       "    <tr>\n",
       "      <th>32</th>\n",
       "      <td>2022</td>\n",
       "      <td>72.154386</td>\n",
       "    </tr>\n",
       "  </tbody>\n",
       "</table>\n",
       "</div>"
      ],
      "text/plain": [
       "    Year  Life_Expectancy\n",
       "30  2020        72.044532\n",
       "31  2021        71.520337\n",
       "32  2022        72.154386"
      ]
     },
     "execution_count": 156,
     "metadata": {},
     "output_type": "execute_result"
    }
   ],
   "source": [
    "yr_mean_le.tail(3)"
   ]
  },
  {
   "cell_type": "markdown",
   "id": "e120d84f-41c3-457f-b43d-49e15981e387",
   "metadata": {},
   "source": [
    "### 1d. Plot the actual values against your model's estimates for the mean life expectancy."
   ]
  },
  {
   "cell_type": "code",
   "execution_count": 160,
   "id": "1ed5f5c8-02b4-45b8-a9d9-8acdcf5170b4",
   "metadata": {},
   "outputs": [
    {
     "data": {
      "text/plain": [
       "Intercept        -0.000102\n",
       "Year              0.032477\n",
       "I(Year - 1990)    0.235245\n",
       "dtype: float64"
      ]
     },
     "execution_count": 160,
     "metadata": {},
     "output_type": "execute_result"
    }
   ],
   "source": [
    "lm.params"
   ]
  },
  {
   "cell_type": "code",
   "execution_count": 162,
   "id": "2713995c-54b5-4859-bd2e-28371714e51b",
   "metadata": {},
   "outputs": [],
   "source": [
    "#pred_df "
   ]
  },
  {
   "cell_type": "code",
   "execution_count": 164,
   "id": "6a797a9e-706f-42c0-83f7-5e3c6af03544",
   "metadata": {},
   "outputs": [
    {
     "data": {
      "text/html": [
       "<div>\n",
       "<style scoped>\n",
       "    .dataframe tbody tr th:only-of-type {\n",
       "        vertical-align: middle;\n",
       "    }\n",
       "\n",
       "    .dataframe tbody tr th {\n",
       "        vertical-align: top;\n",
       "    }\n",
       "\n",
       "    .dataframe thead th {\n",
       "        text-align: right;\n",
       "    }\n",
       "</style>\n",
       "<table border=\"1\" class=\"dataframe\">\n",
       "  <thead>\n",
       "    <tr style=\"text-align: right;\">\n",
       "      <th></th>\n",
       "      <th>Year</th>\n",
       "      <th>Life_Expectancy</th>\n",
       "      <th>le_mean_estimate</th>\n",
       "    </tr>\n",
       "  </thead>\n",
       "  <tbody>\n",
       "    <tr>\n",
       "      <th>0</th>\n",
       "      <td>1990</td>\n",
       "      <td>64.745253</td>\n",
       "      <td>64.628889</td>\n",
       "    </tr>\n",
       "    <tr>\n",
       "      <th>1</th>\n",
       "      <td>1991</td>\n",
       "      <td>65.021276</td>\n",
       "      <td>64.896612</td>\n",
       "    </tr>\n",
       "    <tr>\n",
       "      <th>2</th>\n",
       "      <td>1992</td>\n",
       "      <td>65.217845</td>\n",
       "      <td>65.164334</td>\n",
       "    </tr>\n",
       "    <tr>\n",
       "      <th>3</th>\n",
       "      <td>1993</td>\n",
       "      <td>65.218031</td>\n",
       "      <td>65.432056</td>\n",
       "    </tr>\n",
       "    <tr>\n",
       "      <th>4</th>\n",
       "      <td>1994</td>\n",
       "      <td>65.339539</td>\n",
       "      <td>65.699778</td>\n",
       "    </tr>\n",
       "  </tbody>\n",
       "</table>\n",
       "</div>"
      ],
      "text/plain": [
       "   Year  Life_Expectancy  le_mean_estimate\n",
       "0  1990        64.745253         64.628889\n",
       "1  1991        65.021276         64.896612\n",
       "2  1992        65.217845         65.164334\n",
       "3  1993        65.218031         65.432056\n",
       "4  1994        65.339539         65.699778"
      ]
     },
     "execution_count": 164,
     "metadata": {},
     "output_type": "execute_result"
    }
   ],
   "source": [
    "yr_mean_le['le_mean_estimate'] = lm.predict(yr_mean_le)\n",
    "\n",
    "yr_mean_le.head()"
   ]
  },
  {
   "cell_type": "code",
   "execution_count": 166,
   "id": "0bd01134-dc4d-4d5a-b30e-9b73c0b5bada",
   "metadata": {},
   "outputs": [
    {
     "data": {
      "text/html": [
       "<div>\n",
       "<style scoped>\n",
       "    .dataframe tbody tr th:only-of-type {\n",
       "        vertical-align: middle;\n",
       "    }\n",
       "\n",
       "    .dataframe tbody tr th {\n",
       "        vertical-align: top;\n",
       "    }\n",
       "\n",
       "    .dataframe thead th {\n",
       "        text-align: right;\n",
       "    }\n",
       "</style>\n",
       "<table border=\"1\" class=\"dataframe\">\n",
       "  <thead>\n",
       "    <tr style=\"text-align: right;\">\n",
       "      <th></th>\n",
       "      <th>Year</th>\n",
       "      <th>Life_Expectancy</th>\n",
       "      <th>le_mean_estimate</th>\n",
       "    </tr>\n",
       "  </thead>\n",
       "  <tbody>\n",
       "    <tr>\n",
       "      <th>28</th>\n",
       "      <td>2018</td>\n",
       "      <td>72.493003</td>\n",
       "      <td>72.125109</td>\n",
       "    </tr>\n",
       "    <tr>\n",
       "      <th>29</th>\n",
       "      <td>2019</td>\n",
       "      <td>72.726851</td>\n",
       "      <td>72.392831</td>\n",
       "    </tr>\n",
       "    <tr>\n",
       "      <th>30</th>\n",
       "      <td>2020</td>\n",
       "      <td>72.044532</td>\n",
       "      <td>72.660553</td>\n",
       "    </tr>\n",
       "    <tr>\n",
       "      <th>31</th>\n",
       "      <td>2021</td>\n",
       "      <td>71.520337</td>\n",
       "      <td>72.928275</td>\n",
       "    </tr>\n",
       "    <tr>\n",
       "      <th>32</th>\n",
       "      <td>2022</td>\n",
       "      <td>72.154386</td>\n",
       "      <td>73.195997</td>\n",
       "    </tr>\n",
       "  </tbody>\n",
       "</table>\n",
       "</div>"
      ],
      "text/plain": [
       "    Year  Life_Expectancy  le_mean_estimate\n",
       "28  2018        72.493003         72.125109\n",
       "29  2019        72.726851         72.392831\n",
       "30  2020        72.044532         72.660553\n",
       "31  2021        71.520337         72.928275\n",
       "32  2022        72.154386         73.195997"
      ]
     },
     "execution_count": 166,
     "metadata": {},
     "output_type": "execute_result"
    }
   ],
   "source": [
    "yr_mean_le.tail()"
   ]
  },
  {
   "cell_type": "code",
   "execution_count": 167,
   "id": "92ba3353-ec58-4b11-9357-8b6c90a03b35",
   "metadata": {},
   "outputs": [
    {
     "data": {
      "image/png": "[encoded data removed]",
      "text/plain": [
       "<Figure size 640x480 with 1 Axes>"
      ]
     },
     "metadata": {},
     "output_type": "display_data"
    }
   ],
   "source": [
    "yr_mean_le.plot(x = 'Year', y = 'Life_Expectancy', kind = 'scatter')\n",
    "plt.plot(gdp_le['Year'], lm.fittedvalues, color = 'black');"
   ]
  },
  {
   "cell_type": "markdown",
   "id": "592756fb-2e5c-4e1f-b3f7-04e5b194ae38",
   "metadata": {},
   "source": [
    "### 1e. Inspect the R-squared value for the model. does it make sense, given the plot?"
   ]
  },
  {
   "cell_type": "code",
   "execution_count": 171,
   "id": "38211e82-d3c7-4678-ae58-32adc3b6875d",
   "metadata": {},
   "outputs": [
    {
     "data": {
      "text/plain": [
       "0.07154748843194669"
      ]
     },
     "execution_count": 171,
     "metadata": {},
     "output_type": "execute_result"
    }
   ],
   "source": [
    "lm.rsquared"
   ]
  },
  {
   "cell_type": "markdown",
   "id": "c348aee1-303c-4056-8a68-859ad5117425",
   "metadata": {},
   "source": [
    "I believe so, yes. "
   ]
  },
  {
   "cell_type": "markdown",
   "id": "352f4262-01b9-4e66-b5d8-bb30a16cf810",
   "metadata": {},
   "source": [
    "## 2. Filter the full dataset down to just the year 2021. Fit a linear regression model with target being life expectancy and predictor variable gdp per capita."
   ]
  },
  {
   "cell_type": "code",
   "execution_count": 176,
   "id": "6ff3c616-ac00-4d82-a905-a9fa67865aba",
   "metadata": {},
   "outputs": [
    {
     "data": {
      "text/html": [
       "<div>\n",
       "<style scoped>\n",
       "    .dataframe tbody tr th:only-of-type {\n",
       "        vertical-align: middle;\n",
       "    }\n",
       "\n",
       "    .dataframe tbody tr th {\n",
       "        vertical-align: top;\n",
       "    }\n",
       "\n",
       "    .dataframe thead th {\n",
       "        text-align: right;\n",
       "    }\n",
       "</style>\n",
       "<table border=\"1\" class=\"dataframe\">\n",
       "  <thead>\n",
       "    <tr style=\"text-align: right;\">\n",
       "      <th></th>\n",
       "      <th>Country</th>\n",
       "      <th>Year</th>\n",
       "      <th>GDP_Per_Capita</th>\n",
       "      <th>Continent</th>\n",
       "      <th>Life_Expectancy</th>\n",
       "    </tr>\n",
       "  </thead>\n",
       "  <tbody>\n",
       "    <tr>\n",
       "      <th>0</th>\n",
       "      <td>Afghanistan</td>\n",
       "      <td>2021</td>\n",
       "      <td>1517.016266</td>\n",
       "      <td>Asia</td>\n",
       "      <td>61.982</td>\n",
       "    </tr>\n",
       "    <tr>\n",
       "      <th>21</th>\n",
       "      <td>Albania</td>\n",
       "      <td>2021</td>\n",
       "      <td>14595.944386</td>\n",
       "      <td>Europe</td>\n",
       "      <td>76.463</td>\n",
       "    </tr>\n",
       "    <tr>\n",
       "      <th>54</th>\n",
       "      <td>Algeria</td>\n",
       "      <td>2021</td>\n",
       "      <td>11029.138782</td>\n",
       "      <td>Africa</td>\n",
       "      <td>76.377</td>\n",
       "    </tr>\n",
       "  </tbody>\n",
       "</table>\n",
       "</div>"
      ],
      "text/plain": [
       "        Country  Year  GDP_Per_Capita Continent  Life_Expectancy\n",
       "0   Afghanistan  2021     1517.016266      Asia           61.982\n",
       "21      Albania  2021    14595.944386    Europe           76.463\n",
       "54      Algeria  2021    11029.138782    Africa           76.377"
      ]
     },
     "execution_count": 176,
     "metadata": {},
     "output_type": "execute_result"
    }
   ],
   "source": [
    "gdp_le_2021 = gdp_le[gdp_le['Year'] == 2021]\n",
    "gdp_le_2021.head(3)"
   ]
  },
  {
   "cell_type": "code",
   "execution_count": 177,
   "id": "568de52d-b94c-4c69-9d4c-18b8c526ea8d",
   "metadata": {},
   "outputs": [
    {
     "data": {
      "text/html": [
       "<table class=\"simpletable\">\n",
       "<caption>OLS Regression Results</caption>\n",
       "<tr>\n",
       "  <th>Dep. Variable:</th>     <td>Life_Expectancy</td> <th>  R-squared:         </th> <td>   0.072</td> \n",
       "</tr>\n",
       "<tr>\n",
       "  <th>Model:</th>                   <td>OLS</td>       <th>  Adj. R-squared:    </th> <td>   0.071</td> \n",
       "</tr>\n",
       "<tr>\n",
       "  <th>Method:</th>             <td>Least Squares</td>  <th>  F-statistic:       </th> <td>   424.0</td> \n",
       "</tr>\n",
       "<tr>\n",
       "  <th>Date:</th>             <td>Tue, 22 Oct 2024</td> <th>  Prob (F-statistic):</th> <td>8.13e-91</td> \n",
       "</tr>\n",
       "<tr>\n",
       "  <th>Time:</th>                 <td>20:10:32</td>     <th>  Log-Likelihood:    </th> <td> -19950.</td> \n",
       "</tr>\n",
       "<tr>\n",
       "  <th>No. Observations:</th>      <td>  5504</td>      <th>  AIC:               </th> <td>3.990e+04</td>\n",
       "</tr>\n",
       "<tr>\n",
       "  <th>Df Residuals:</th>          <td>  5502</td>      <th>  BIC:               </th> <td>3.992e+04</td>\n",
       "</tr>\n",
       "<tr>\n",
       "  <th>Df Model:</th>              <td>     1</td>      <th>                     </th>     <td> </td>    \n",
       "</tr>\n",
       "<tr>\n",
       "  <th>Covariance Type:</th>      <td>nonrobust</td>    <th>                     </th>     <td> </td>    \n",
       "</tr>\n",
       "</table>\n",
       "<table class=\"simpletable\">\n",
       "<tr>\n",
       "         <td></td>           <th>coef</th>     <th>std err</th>      <th>t</th>      <th>P>|t|</th>  <th>[0.025</th>    <th>0.975]</th>  \n",
       "</tr>\n",
       "<tr>\n",
       "  <th>Intercept</th>      <td>   -0.0001</td> <td> 6.64e-06</td> <td>  -15.342</td> <td> 0.000</td> <td>   -0.000</td> <td>-8.89e-05</td>\n",
       "</tr>\n",
       "<tr>\n",
       "  <th>Year</th>           <td>    0.0325</td> <td>    0.000</td> <td>  263.314</td> <td> 0.000</td> <td>    0.032</td> <td>    0.033</td>\n",
       "</tr>\n",
       "<tr>\n",
       "  <th>I(Year - 1990)</th> <td>    0.2352</td> <td>    0.013</td> <td>   17.945</td> <td> 0.000</td> <td>    0.210</td> <td>    0.261</td>\n",
       "</tr>\n",
       "</table>\n",
       "<table class=\"simpletable\">\n",
       "<tr>\n",
       "  <th>Omnibus:</th>       <td>387.409</td> <th>  Durbin-Watson:     </th> <td>   0.058</td> \n",
       "</tr>\n",
       "<tr>\n",
       "  <th>Prob(Omnibus):</th> <td> 0.000</td>  <th>  Jarque-Bera (JB):  </th> <td> 469.138</td> \n",
       "</tr>\n",
       "<tr>\n",
       "  <th>Skew:</th>          <td>-0.709</td>  <th>  Prob(JB):          </th> <td>1.34e-102</td>\n",
       "</tr>\n",
       "<tr>\n",
       "  <th>Kurtosis:</th>      <td> 2.820</td>  <th>  Cond. No.          </th> <td>1.23e+19</td> \n",
       "</tr>\n",
       "</table><br/><br/>Notes:<br/>[1] Standard Errors assume that the covariance matrix of the errors is correctly specified.<br/>[2] The smallest eigenvalue is 1.47e-28. This might indicate that there are<br/>strong multicollinearity problems or that the design matrix is singular."
      ],
      "text/latex": [
       "\\begin{center}\n",
       "\\begin{tabular}{lclc}\n",
       "\\toprule\n",
       "\\textbf{Dep. Variable:}    & Life\\_Expectancy & \\textbf{  R-squared:         } &     0.072   \\\\\n",
       "\\textbf{Model:}            &       OLS        & \\textbf{  Adj. R-squared:    } &     0.071   \\\\\n",
       "\\textbf{Method:}           &  Least Squares   & \\textbf{  F-statistic:       } &     424.0   \\\\\n",
       "\\textbf{Date:}             & Tue, 22 Oct 2024 & \\textbf{  Prob (F-statistic):} &  8.13e-91   \\\\\n",
       "\\textbf{Time:}             &     20:10:32     & \\textbf{  Log-Likelihood:    } &   -19950.   \\\\\n",
       "\\textbf{No. Observations:} &        5504      & \\textbf{  AIC:               } & 3.990e+04   \\\\\n",
       "\\textbf{Df Residuals:}     &        5502      & \\textbf{  BIC:               } & 3.992e+04   \\\\\n",
       "\\textbf{Df Model:}         &           1      & \\textbf{                     } &             \\\\\n",
       "\\textbf{Covariance Type:}  &    nonrobust     & \\textbf{                     } &             \\\\\n",
       "\\bottomrule\n",
       "\\end{tabular}\n",
       "\\begin{tabular}{lcccccc}\n",
       "                        & \\textbf{coef} & \\textbf{std err} & \\textbf{t} & \\textbf{P$> |$t$|$} & \\textbf{[0.025} & \\textbf{0.975]}  \\\\\n",
       "\\midrule\n",
       "\\textbf{Intercept}      &      -0.0001  &     6.64e-06     &   -15.342  &         0.000        &       -0.000    &    -8.89e-05     \\\\\n",
       "\\textbf{Year}           &       0.0325  &        0.000     &   263.314  &         0.000        &        0.032    &        0.033     \\\\\n",
       "\\textbf{I(Year - 1990)} &       0.2352  &        0.013     &    17.945  &         0.000        &        0.210    &        0.261     \\\\\n",
       "\\bottomrule\n",
       "\\end{tabular}\n",
       "\\begin{tabular}{lclc}\n",
       "\\textbf{Omnibus:}       & 387.409 & \\textbf{  Durbin-Watson:     } &     0.058  \\\\\n",
       "\\textbf{Prob(Omnibus):} &   0.000 & \\textbf{  Jarque-Bera (JB):  } &   469.138  \\\\\n",
       "\\textbf{Skew:}          &  -0.709 & \\textbf{  Prob(JB):          } & 1.34e-102  \\\\\n",
       "\\textbf{Kurtosis:}      &   2.820 & \\textbf{  Cond. No.          } &  1.23e+19  \\\\\n",
       "\\bottomrule\n",
       "\\end{tabular}\n",
       "%\\caption{OLS Regression Results}\n",
       "\\end{center}\n",
       "\n",
       "Notes: \\newline\n",
       " [1] Standard Errors assume that the covariance matrix of the errors is correctly specified. \\newline\n",
       " [2] The smallest eigenvalue is 1.47e-28. This might indicate that there are \\newline\n",
       " strong multicollinearity problems or that the design matrix is singular."
      ],
      "text/plain": [
       "<class 'statsmodels.iolib.summary.Summary'>\n",
       "\"\"\"\n",
       "                            OLS Regression Results                            \n",
       "==============================================================================\n",
       "Dep. Variable:        Life_Expectancy   R-squared:                       0.072\n",
       "Model:                            OLS   Adj. R-squared:                  0.071\n",
       "Method:                 Least Squares   F-statistic:                     424.0\n",
       "Date:                Tue, 22 Oct 2024   Prob (F-statistic):           8.13e-91\n",
       "Time:                        20:10:32   Log-Likelihood:                -19950.\n",
       "No. Observations:                5504   AIC:                         3.990e+04\n",
       "Df Residuals:                    5502   BIC:                         3.992e+04\n",
       "Df Model:                           1                                         \n",
       "Covariance Type:            nonrobust                                         \n",
       "==================================================================================\n",
       "                     coef    std err          t      P>|t|      [0.025      0.975]\n",
       "----------------------------------------------------------------------------------\n",
       "Intercept         -0.0001   6.64e-06    -15.342      0.000      -0.000   -8.89e-05\n",
       "Year               0.0325      0.000    263.314      0.000       0.032       0.033\n",
       "I(Year - 1990)     0.2352      0.013     17.945      0.000       0.210       0.261\n",
       "==============================================================================\n",
       "Omnibus:                      387.409   Durbin-Watson:                   0.058\n",
       "Prob(Omnibus):                  0.000   Jarque-Bera (JB):              469.138\n",
       "Skew:                          -0.709   Prob(JB):                    1.34e-102\n",
       "Kurtosis:                       2.820   Cond. No.                     1.23e+19\n",
       "==============================================================================\n",
       "\n",
       "Notes:\n",
       "[1] Standard Errors assume that the covariance matrix of the errors is correctly specified.\n",
       "[2] The smallest eigenvalue is 1.47e-28. This might indicate that there are\n",
       "strong multicollinearity problems or that the design matrix is singular.\n",
       "\"\"\""
      ]
     },
     "execution_count": 177,
     "metadata": {},
     "output_type": "execute_result"
    }
   ],
   "source": [
    "lm = smf.ols('Life_Expectancy ~ Year + I(Year-1990)', data = gdp_le).fit()\n",
    "lm.summary()"
   ]
  },
  {
   "cell_type": "code",
   "execution_count": 178,
   "id": "7395c427-c5c3-4677-9fb6-f4b969a845fa",
   "metadata": {},
   "outputs": [
    {
     "data": {
      "text/html": [
       "<table class=\"simpletable\">\n",
       "<caption>OLS Regression Results</caption>\n",
       "<tr>\n",
       "  <th>Dep. Variable:</th>     <td>Life_Expectancy</td> <th>  R-squared:         </th> <td>   0.555</td>\n",
       "</tr>\n",
       "<tr>\n",
       "  <th>Model:</th>                   <td>OLS</td>       <th>  Adj. R-squared:    </th> <td>   0.553</td>\n",
       "</tr>\n",
       "<tr>\n",
       "  <th>Method:</th>             <td>Least Squares</td>  <th>  F-statistic:       </th> <td>   213.4</td>\n",
       "</tr>\n",
       "<tr>\n",
       "  <th>Date:</th>             <td>Tue, 22 Oct 2024</td> <th>  Prob (F-statistic):</th> <td>6.81e-32</td>\n",
       "</tr>\n",
       "<tr>\n",
       "  <th>Time:</th>                 <td>20:10:32</td>     <th>  Log-Likelihood:    </th> <td> -529.25</td>\n",
       "</tr>\n",
       "<tr>\n",
       "  <th>No. Observations:</th>      <td>   173</td>      <th>  AIC:               </th> <td>   1062.</td>\n",
       "</tr>\n",
       "<tr>\n",
       "  <th>Df Residuals:</th>          <td>   171</td>      <th>  BIC:               </th> <td>   1069.</td>\n",
       "</tr>\n",
       "<tr>\n",
       "  <th>Df Model:</th>              <td>     1</td>      <th>                     </th>     <td> </td>   \n",
       "</tr>\n",
       "<tr>\n",
       "  <th>Covariance Type:</th>      <td>nonrobust</td>    <th>                     </th>     <td> </td>   \n",
       "</tr>\n",
       "</table>\n",
       "<table class=\"simpletable\">\n",
       "<tr>\n",
       "         <td></td>           <th>coef</th>     <th>std err</th>      <th>t</th>      <th>P>|t|</th>  <th>[0.025</th>    <th>0.975]</th>  \n",
       "</tr>\n",
       "<tr>\n",
       "  <th>Intercept</th>      <td>   65.9499</td> <td>    0.549</td> <td>  120.225</td> <td> 0.000</td> <td>   64.867</td> <td>   67.033</td>\n",
       "</tr>\n",
       "<tr>\n",
       "  <th>GDP_Per_Capita</th> <td>    0.0003</td> <td> 1.76e-05</td> <td>   14.608</td> <td> 0.000</td> <td>    0.000</td> <td>    0.000</td>\n",
       "</tr>\n",
       "</table>\n",
       "<table class=\"simpletable\">\n",
       "<tr>\n",
       "  <th>Omnibus:</th>       <td>11.676</td> <th>  Durbin-Watson:     </th> <td>   1.887</td>\n",
       "</tr>\n",
       "<tr>\n",
       "  <th>Prob(Omnibus):</th> <td> 0.003</td> <th>  Jarque-Bera (JB):  </th> <td>  12.725</td>\n",
       "</tr>\n",
       "<tr>\n",
       "  <th>Skew:</th>          <td>-0.664</td> <th>  Prob(JB):          </th> <td> 0.00173</td>\n",
       "</tr>\n",
       "<tr>\n",
       "  <th>Kurtosis:</th>      <td> 2.946</td> <th>  Cond. No.          </th> <td>4.34e+04</td>\n",
       "</tr>\n",
       "</table><br/><br/>Notes:<br/>[1] Standard Errors assume that the covariance matrix of the errors is correctly specified.<br/>[2] The condition number is large, 4.34e+04. This might indicate that there are<br/>strong multicollinearity or other numerical problems."
      ],
      "text/latex": [
       "\\begin{center}\n",
       "\\begin{tabular}{lclc}\n",
       "\\toprule\n",
       "\\textbf{Dep. Variable:}    & Life\\_Expectancy & \\textbf{  R-squared:         } &     0.555   \\\\\n",
       "\\textbf{Model:}            &       OLS        & \\textbf{  Adj. R-squared:    } &     0.553   \\\\\n",
       "\\textbf{Method:}           &  Least Squares   & \\textbf{  F-statistic:       } &     213.4   \\\\\n",
       "\\textbf{Date:}             & Tue, 22 Oct 2024 & \\textbf{  Prob (F-statistic):} &  6.81e-32   \\\\\n",
       "\\textbf{Time:}             &     20:10:32     & \\textbf{  Log-Likelihood:    } &   -529.25   \\\\\n",
       "\\textbf{No. Observations:} &         173      & \\textbf{  AIC:               } &     1062.   \\\\\n",
       "\\textbf{Df Residuals:}     &         171      & \\textbf{  BIC:               } &     1069.   \\\\\n",
       "\\textbf{Df Model:}         &           1      & \\textbf{                     } &             \\\\\n",
       "\\textbf{Covariance Type:}  &    nonrobust     & \\textbf{                     } &             \\\\\n",
       "\\bottomrule\n",
       "\\end{tabular}\n",
       "\\begin{tabular}{lcccccc}\n",
       "                          & \\textbf{coef} & \\textbf{std err} & \\textbf{t} & \\textbf{P$> |$t$|$} & \\textbf{[0.025} & \\textbf{0.975]}  \\\\\n",
       "\\midrule\n",
       "\\textbf{Intercept}        &      65.9499  &        0.549     &   120.225  &         0.000        &       64.867    &       67.033     \\\\\n",
       "\\textbf{GDP\\_Per\\_Capita} &       0.0003  &     1.76e-05     &    14.608  &         0.000        &        0.000    &        0.000     \\\\\n",
       "\\bottomrule\n",
       "\\end{tabular}\n",
       "\\begin{tabular}{lclc}\n",
       "\\textbf{Omnibus:}       & 11.676 & \\textbf{  Durbin-Watson:     } &    1.887  \\\\\n",
       "\\textbf{Prob(Omnibus):} &  0.003 & \\textbf{  Jarque-Bera (JB):  } &   12.725  \\\\\n",
       "\\textbf{Skew:}          & -0.664 & \\textbf{  Prob(JB):          } &  0.00173  \\\\\n",
       "\\textbf{Kurtosis:}      &  2.946 & \\textbf{  Cond. No.          } & 4.34e+04  \\\\\n",
       "\\bottomrule\n",
       "\\end{tabular}\n",
       "%\\caption{OLS Regression Results}\n",
       "\\end{center}\n",
       "\n",
       "Notes: \\newline\n",
       " [1] Standard Errors assume that the covariance matrix of the errors is correctly specified. \\newline\n",
       " [2] The condition number is large, 4.34e+04. This might indicate that there are \\newline\n",
       " strong multicollinearity or other numerical problems."
      ],
      "text/plain": [
       "<class 'statsmodels.iolib.summary.Summary'>\n",
       "\"\"\"\n",
       "                            OLS Regression Results                            \n",
       "==============================================================================\n",
       "Dep. Variable:        Life_Expectancy   R-squared:                       0.555\n",
       "Model:                            OLS   Adj. R-squared:                  0.553\n",
       "Method:                 Least Squares   F-statistic:                     213.4\n",
       "Date:                Tue, 22 Oct 2024   Prob (F-statistic):           6.81e-32\n",
       "Time:                        20:10:32   Log-Likelihood:                -529.25\n",
       "No. Observations:                 173   AIC:                             1062.\n",
       "Df Residuals:                     171   BIC:                             1069.\n",
       "Df Model:                           1                                         \n",
       "Covariance Type:            nonrobust                                         \n",
       "==================================================================================\n",
       "                     coef    std err          t      P>|t|      [0.025      0.975]\n",
       "----------------------------------------------------------------------------------\n",
       "Intercept         65.9499      0.549    120.225      0.000      64.867      67.033\n",
       "GDP_Per_Capita     0.0003   1.76e-05     14.608      0.000       0.000       0.000\n",
       "==============================================================================\n",
       "Omnibus:                       11.676   Durbin-Watson:                   1.887\n",
       "Prob(Omnibus):                  0.003   Jarque-Bera (JB):               12.725\n",
       "Skew:                          -0.664   Prob(JB):                      0.00173\n",
       "Kurtosis:                       2.946   Cond. No.                     4.34e+04\n",
       "==============================================================================\n",
       "\n",
       "Notes:\n",
       "[1] Standard Errors assume that the covariance matrix of the errors is correctly specified.\n",
       "[2] The condition number is large, 4.34e+04. This might indicate that there are\n",
       "strong multicollinearity or other numerical problems.\n",
       "\"\"\""
      ]
     },
     "execution_count": 178,
     "metadata": {},
     "output_type": "execute_result"
    }
   ],
   "source": [
    "lm_2021 = smf.ols('Life_Expectancy ~ GDP_Per_Capita', data = gdp_le_2021).fit()\n",
    "lm_2021.summary()"
   ]
  },
  {
   "cell_type": "markdown",
   "id": "7e5468a9-f240-4d5b-958b-9fd61c52435e",
   "metadata": {},
   "source": [
    "### 2a. What coefficients do you get? Interpret the meaning of those coefficients."
   ]
  },
  {
   "cell_type": "markdown",
   "id": "3037ef7e-cc3b-4d33-9847-facb57c984ca",
   "metadata": {},
   "source": [
    "the minimum life expectancy is 65.9499 years old - as that is the intercept on the Y axis when x is 0. Per every unit of GDP_Per_Capita, perhaps dollars?, the life expectancy increases by a factor of 0.0003 years per unit/dollar perhaps. "
   ]
  },
  {
   "cell_type": "code",
   "execution_count": null,
   "id": "a7759300-80f7-4400-91ad-902107c5f83e",
   "metadata": {},
   "outputs": [],
   "source": []
  },
  {
   "cell_type": "code",
   "execution_count": null,
   "id": "b32a8c2a-6c78-46e5-a8b3-2c4f20c7bd76",
   "metadata": {},
   "outputs": [],
   "source": []
  },
  {
   "cell_type": "code",
   "execution_count": null,
   "id": "52ecfd37-a91d-4663-9b71-608430071169",
   "metadata": {},
   "outputs": [],
   "source": []
  },
  {
   "cell_type": "code",
   "execution_count": null,
   "id": "1499490f-db21-4ee7-9637-fe1a6429e387",
   "metadata": {},
   "outputs": [],
   "source": []
  },
  {
   "cell_type": "code",
   "execution_count": null,
   "id": "3467503e-2a17-4085-88c8-f31c11e0cefd",
   "metadata": {},
   "outputs": [],
   "source": []
  },
  {
   "cell_type": "code",
   "execution_count": null,
   "id": "ca1f2f08-d1cf-4f5c-b84d-77d88d3e0a5d",
   "metadata": {},
   "outputs": [],
   "source": []
  },
  {
   "cell_type": "code",
   "execution_count": null,
   "id": "a8e75170-8113-4d58-93d0-be76dc307b16",
   "metadata": {},
   "outputs": [],
   "source": []
  },
  {
   "cell_type": "code",
   "execution_count": null,
   "id": "f0c721a6-c8bf-4a5b-abb4-d92a1b478ebb",
   "metadata": {},
   "outputs": [],
   "source": []
  },
  {
   "cell_type": "code",
   "execution_count": null,
   "id": "05bb990e-f461-4505-8571-a0b5a1e0dbbb",
   "metadata": {},
   "outputs": [],
   "source": []
  },
  {
   "cell_type": "code",
   "execution_count": null,
   "id": "c2af7cbc-d615-4fc7-9f2e-037a3275b73d",
   "metadata": {},
   "outputs": [],
   "source": []
  },
  {
   "cell_type": "code",
   "execution_count": null,
   "id": "ea662f66-d033-41bd-86cc-40187aa5d03a",
   "metadata": {},
   "outputs": [],
   "source": []
  },
  {
   "cell_type": "code",
   "execution_count": null,
   "id": "2c86cfcc-51a8-496e-a29e-3ca67268b00d",
   "metadata": {},
   "outputs": [],
   "source": []
  },
  {
   "cell_type": "code",
   "execution_count": null,
   "id": "39aba672-ccb1-41c1-a280-3e5fc7d9ae54",
   "metadata": {},
   "outputs": [],
   "source": []
  },
  {
   "cell_type": "code",
   "execution_count": null,
   "id": "3af347fa-bf68-43d4-9262-8419190f664c",
   "metadata": {},
   "outputs": [],
   "source": []
  },
  {
   "cell_type": "code",
   "execution_count": null,
   "id": "7cce10e2-c97b-476f-ad2d-0fb3fbfd545a",
   "metadata": {},
   "outputs": [],
   "source": []
  },
  {
   "cell_type": "code",
   "execution_count": null,
   "id": "9c4d99df-38d7-452f-beb5-0b36c2389501",
   "metadata": {},
   "outputs": [],
   "source": []
  }
 ],
 "metadata": {
  "kernelspec": {
   "display_name": "Python 3 (ipykernel)",
   "language": "python",
   "name": "python3"
  },
  "language_info": {
   "codemirror_mode": {
    "name": "ipython",
    "version": 3
   },
   "file_extension": ".py",
   "mimetype": "text/x-python",
   "name": "python",
   "nbconvert_exporter": "python",
   "pygments_lexer": "ipython3",
   "version": "3.12.3"
  }
 },
 "nbformat": 4,
 "nbformat_minor": 5
}
