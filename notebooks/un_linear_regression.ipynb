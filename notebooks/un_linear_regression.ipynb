{
 "cells": [
  {
   "cell_type": "code",
   "execution_count": 5,
   "id": "0395c83b-611a-4f67-91b8-89b473abc440",
   "metadata": {},
   "outputs": [],
   "source": [
    "import pandas as pd\n",
    "import numpy as np\n",
    "import matplotlib.pyplot as plt\n",
    "import statsmodels.formula.api as smf\n",
    "import statsmodels.stats.api as sms"
   ]
  },
  {
   "cell_type": "code",
   "execution_count": 13,
   "id": "57e31214-7f77-4e86-a1af-0e8c1a6062a0",
   "metadata": {},
   "outputs": [
    {
     "data": {
      "text/html": [
       "<div>\n",
       "<style scoped>\n",
       "    .dataframe tbody tr th:only-of-type {\n",
       "        vertical-align: middle;\n",
       "    }\n",
       "\n",
       "    .dataframe tbody tr th {\n",
       "        vertical-align: top;\n",
       "    }\n",
       "\n",
       "    .dataframe thead th {\n",
       "        text-align: right;\n",
       "    }\n",
       "</style>\n",
       "<table border=\"1\" class=\"dataframe\">\n",
       "  <thead>\n",
       "    <tr style=\"text-align: right;\">\n",
       "      <th></th>\n",
       "      <th>Country</th>\n",
       "      <th>Year</th>\n",
       "      <th>GDP_Per_Capita</th>\n",
       "      <th>Continent</th>\n",
       "      <th>Life_Expectancy</th>\n",
       "    </tr>\n",
       "  </thead>\n",
       "  <tbody>\n",
       "    <tr>\n",
       "      <th>0</th>\n",
       "      <td>Afghanistan</td>\n",
       "      <td>2021</td>\n",
       "      <td>1517.016266</td>\n",
       "      <td>Asia</td>\n",
       "      <td>61.982</td>\n",
       "    </tr>\n",
       "    <tr>\n",
       "      <th>1</th>\n",
       "      <td>Afghanistan</td>\n",
       "      <td>2020</td>\n",
       "      <td>1968.341002</td>\n",
       "      <td>Asia</td>\n",
       "      <td>62.575</td>\n",
       "    </tr>\n",
       "  </tbody>\n",
       "</table>\n",
       "</div>"
      ],
      "text/plain": [
       "       Country  Year  GDP_Per_Capita Continent  Life_Expectancy\n",
       "0  Afghanistan  2021     1517.016266      Asia           61.982\n",
       "1  Afghanistan  2020     1968.341002      Asia           62.575"
      ]
     },
     "execution_count": 13,
     "metadata": {},
     "output_type": "execute_result"
    }
   ],
   "source": [
    "gdp_le = pd.read_csv('../data/gdp_le.csv')\n",
    "gdp_le.head(2)"
   ]
  },
  {
   "cell_type": "markdown",
   "id": "33c54924-160e-46e1-886e-d569e4f81235",
   "metadata": {},
   "source": [
    "# Problem Solving:"
   ]
  },
  {
   "cell_type": "markdown",
   "id": "53df3c73-ff45-4039-b03c-a3d6dd5b80b9",
   "metadata": {},
   "source": [
    "## 1. Start by fitting a linear regression model with target being life expectancy and predictor variable year."
   ]
  },
  {
   "cell_type": "code",
   "execution_count": 25,
   "id": "c19915f2-1337-4a70-b9b4-959a6d444f5f",
   "metadata": {},
   "outputs": [],
   "source": [
    "lr_le_yr = smf.ols(\"Life_Expectancy ~ Year\", data=gdp_le).fit()"
   ]
  },
  {
   "cell_type": "code",
   "execution_count": 27,
   "id": "9322cea8-03b4-48f4-8ced-f88c02c0c640",
   "metadata": {},
   "outputs": [
    {
     "data": {
      "text/plain": [
       "Intercept   -468.138140\n",
       "Year           0.267722\n",
       "dtype: float64"
      ]
     },
     "execution_count": 27,
     "metadata": {},
     "output_type": "execute_result"
    }
   ],
   "source": [
    "lr_le_yr.params"
   ]
  },
  {
   "cell_type": "markdown",
   "id": "46ed93d4-a48f-4a10-b90d-048a58a0f5ff",
   "metadata": {},
   "source": [
    "Substituting these estimates into the model, we get\n",
    "\n",
    "$$Mean(Life Expectancy) = -468.138140 + 0.267722(Year)$$"
   ]
  },
  {
   "cell_type": "markdown",
   "id": "c5a5cd54-5b14-400d-863b-b3162152cada",
   "metadata": {},
   "source": [
    "### a. What coefficients do you get? Interpret the meaning of these coefficents."
   ]
  },
  {
   "cell_type": "markdown",
   "id": "d8855db1-3474-4a73-86ab-82c1e57bb9e8",
   "metadata": {},
   "source": [
    "Intercept   -468.138140 and\n",
    "Year           0.267722"
   ]
  },
  {
   "cell_type": "markdown",
   "id": "f5b4c16b-906d-4ce4-9b43-122711575f01",
   "metadata": {},
   "source": [
    "The intercept, -468.14, is where the Life_Expectancy variable intercepts the Y axis when the year is 0. BUT the year is never 0 in this "
   ]
  },
  {
   "cell_type": "code",
   "execution_count": null,
   "id": "122ed88e-7b44-4a74-834d-7ab9a76d57ba",
   "metadata": {},
   "outputs": [],
   "source": []
  }
 ],
 "metadata": {
  "kernelspec": {
   "display_name": "Python 3 (ipykernel)",
   "language": "python",
   "name": "python3"
  },
  "language_info": {
   "codemirror_mode": {
    "name": "ipython",
    "version": 3
   },
   "file_extension": ".py",
   "mimetype": "text/x-python",
   "name": "python",
   "nbconvert_exporter": "python",
   "pygments_lexer": "ipython3",
   "version": "3.12.3"
  }
 },
 "nbformat": 4,
 "nbformat_minor": 5
}
